{
 "metadata": {
  "language_info": {
   "codemirror_mode": {
    "name": "ipython",
    "version": 3
   },
   "file_extension": ".py",
   "mimetype": "text/x-python",
   "name": "python",
   "nbconvert_exporter": "python",
   "pygments_lexer": "ipython3",
   "version": "3.8.6-final"
  },
  "orig_nbformat": 2,
  "kernelspec": {
   "name": "Python 3.8.6 64-bit",
   "display_name": "Python 3.8.6 64-bit",
   "metadata": {
    "interpreter": {
     "hash": "893637ee81518553070765f450e2ddeadcdcae4ad42ad77ba8820f601c90f3eb"
    }
   }
  }
 },
 "nbformat": 4,
 "nbformat_minor": 2,
 "cells": [
  {
   "source": [
    "# Como usar pytube para descargar videos de youtube con python\n",
    "primero instalamos el paquete *pytube* en la linea de comandos cmd en windows:\n",
    "        \n",
    "        python -m pip install git+https://github.com/nficano/pytube.\n",
    "una vez listo abrimos un proyecto nuevo o donde lo queremos utilizar y lo importamos, la parte más importante de pytube es su clase Youtube. a partir de ella podemos descargar nuestros videos por utilidad crearemos una variable \"yt\" o como deseen llamarla para almacenar la clase *Youtube* y sea más facil utilizarla"
   ],
   "cell_type": "markdown",
   "metadata": {}
  },
  {
   "source": [
    "from pytube import YouTube\n",
    "\n",
    "yt=YouTube()"
   ],
   "cell_type": "code",
   "metadata": {},
   "execution_count": null,
   "outputs": []
  },
  {
   "source": [
    "La clase *Youtube* entre sus parentesis iría el enlace del video a descargar sea colocado directamente o usando una variable con un input"
   ],
   "cell_type": "markdown",
   "metadata": {}
  },
  {
   "cell_type": "code",
   "execution_count": null,
   "metadata": {},
   "outputs": [],
   "source": [
    "#opcion1\n",
    "link=input(\"Coloque el enlace del video\")\n",
    "yt=YouTube(link)"
   ]
  },
  {
   "cell_type": "code",
   "execution_count": null,
   "metadata": {},
   "outputs": [],
   "source": [
    "#opcion2\n",
    "yt=YouTube(\"https://www.youtube.com/watch?v=dQ4jvhzWd2Y\")"
   ]
  },
  {
   "source": [
    "Una vez tenemos el enlace debemos usar el metodo *streams* para que vea todos los formatos posibles y de ahi colocar el metodo que deseamos por ejemplo: \n",
    " * *.first* para descargar el primer video en la lista de streams para descargar\n",
    " * *all* ver la lista de streams disponibles con sus respectivas calidades, formato, fps y demás!\n",
    " * *filter* filtra  los resultados de los streams por audio o video\n",
    " * *get_by_itag* usando la itag de un stream especifico para descargarlo"
   ],
   "cell_type": "markdown",
   "metadata": {}
  },
  {
   "cell_type": "code",
   "execution_count": null,
   "metadata": {},
   "outputs": [],
   "source": [
    "#descargar el primer stream de la lista\n",
    "stream=yt.streams.first()"
   ]
  },
  {
   "source": [
    "## Usar la lista de Streams y verla\n",
    "para ello debemos colocar uno de los metodos que se mecionaron al inicio a *streams* el *all* para que  nuestro programa tenga la lista completa de streams"
   ],
   "cell_type": "markdown",
   "metadata": {}
  },
  {
   "cell_type": "code",
   "execution_count": null,
   "metadata": {},
   "outputs": [],
   "source": [
    "#mostrar la lista de streams del video\n",
    "listst=yt.streams.all()\n",
    "for st in listst:\n",
    "    print(st)"
   ]
  },
  {
   "cell_type": "code",
   "execution_count": null,
   "metadata": {},
   "outputs": [],
   "source": [
    "#usar itag pra descargar un stream especifico\n",
    "yt.streams.get_by_itag(\"tag\")"
   ]
  },
  {
   "source": [
    "## Descargar un video\n",
    "Para descargar el video debemos usar el método *download* despues del método streams y lo que le coloquemos, y download lleva () dentro de estos parentesis colocaremos la ruta de descarga de nuestro video en el  ordenador si no se especifica se descarga en el mismo directorio que el programa"
   ],
   "cell_type": "markdown",
   "metadata": {}
  },
  {
   "cell_type": "code",
   "execution_count": null,
   "metadata": {},
   "outputs": [],
   "source": [
    "#añadir el método para descargar nuestro video\n",
    "yt.streams.first().download()"
   ]
  },
  {
   "source": [
    "## Esto nos dejaria con lo siguiente"
   ],
   "cell_type": "markdown",
   "metadata": {}
  },
  {
   "cell_type": "code",
   "execution_count": null,
   "metadata": {},
   "outputs": [],
   "source": [
    "#forma más simple de descarga un video de youtube\n",
    "from pytube import YouTube\n",
    "\n",
    "yt=YouTube(\"https://www.youtube.com/watch?v=dQ4jvhzWd2Y\")\n",
    "st=yt.streams.first().download()"
   ]
  }
 ]
}