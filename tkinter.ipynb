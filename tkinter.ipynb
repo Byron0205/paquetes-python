{
 "metadata": {
  "language_info": {
   "codemirror_mode": {
    "name": "ipython",
    "version": 3
   },
   "file_extension": ".py",
   "mimetype": "text/x-python",
   "name": "python",
   "nbconvert_exporter": "python",
   "pygments_lexer": "ipython3",
   "version": "3.8.6-final"
  },
  "orig_nbformat": 2,
  "kernelspec": {
   "name": "Python 3.8.6 64-bit ('CursoDjango-ANFDnuX6')",
   "display_name": "Python 3.8.6 64-bit ('CursoDjango-ANFDnuX6')",
   "metadata": {
    "interpreter": {
     "hash": "ca6b35a2ddea22824db94670616386aa8ae9fc6c59a233ca73d5a9a9140dfc20"
    }
   }
  }
 },
 "nbformat": 4,
 "nbformat_minor": 2,
 "cells": [
  {
   "source": [
    "# Tkinter\n",
    "## Interfaces Gráficas con Python\n",
    "Una interfaz gráfica tambien denominadas GUI, Intermediarios entre el programa y el usuario. Formadas por un conjunto de gráficos como ventanas, botones, menús, casillas de verificación, etc; pueden verse también como ventanas con las que los usuarios interactuan con el programa\n",
    "\n",
    "para crear interfaces con python pueden usarse librerias como:\n",
    "* Tkinter\n",
    "* PyGTK\n",
    "* WxPython\n",
    "* PyQT\n",
    "\n",
    "Tkinter es un puente entre python y la libreria TCL/TK de otros lenguajes\n",
    "\n",
    "## Estructura de una interfaz grafica en python\n",
    "Lo primero es la raiz o ventana, dentro de esa raiz se crea normalmente un frame que agrupa los elementos de dicha interfaz, los elementos de la interfaz se les conoce como widgets o como todo lo que son: botones, menus desplegables, campos de texto, etc.\n",
    "\n",
    "### Primer Paso\n",
    "\n",
    " se empieza importando el paquete *Tkinter* para poder trabajar con el\n",
    "\n",
    "### SEgundo Paso\n",
    "\n",
    "se define una variable para que sea la interfaz\n",
    "\n",
    "### Tercer Paso\n",
    "\n",
    "Se utiliza el método *mainloop()* esto se debe a que para que funcione la interfaz esta debe estar en una especie de bucle infinito que va colocado desde que definimos el método *Tk* hasta *mainloop*\n"
   ],
   "cell_type": "markdown",
   "metadata": {}
  },
  {
   "cell_type": "code",
   "execution_count": null,
   "metadata": {},
   "outputs": [],
   "source": [
    "import tkinter as tk\n",
    "#forma de crear una interfaz \n",
    "root=tk.Tk()\n",
    "\n",
    "root.mainloop()"
   ]
  },
  {
   "source": [
    "las ventanas deben funcionar a la espera de eventos ya que funcionan en base a opciones, menus desplegables, botones, etc.\n"
   ],
   "cell_type": "markdown",
   "metadata": {}
  },
  {
   "cell_type": "code",
   "execution_count": null,
   "metadata": {},
   "outputs": [],
   "source": [
    "import tkinter as tk\n",
    "\n",
    "root=tk.Tk()\n",
    "miframe=tk.Frame(root, width=400, height=400)\n",
    "miframe.pack()\n",
    "root.mainloop()"
   ]
  },
  {
   "source": [
    "# Usar \"interfaz 1.py\"\n",
    "## Personalizar nuestra ventana\n",
    "### Podemos ponerle un titulo a la ventana usando el metodo\n",
    "* root.title(\"Titulo\")\n",
    "\n",
    "### Definir el tamaño por defecto de nuestra interfaz\n",
    "* root.geometry(\"medidaxmedida\")\n",
    "\n",
    "### Definir si se puede redimensionar o no\n",
    "* root.resizable(False, False) --> No modificable\n",
    "\n",
    "* root.resizable(True, False) --> solo modificable el ancho\n",
    "\n",
    "* root.resizable(False, True) --> solo modificable el alto\n",
    "\n",
    "* root.resizable(True, True) --> redimensionable\n",
    "\n",
    "### Colocar un icono a la ventana con el metodo\n",
    "* root.iconbitmap(\"direccion de la imagen\")\n",
    "\n",
    "## recomendaciones:\n",
    "* Coloca la imagen en la misma ruta que nuestra interfaz\n",
    "* Usar formato \".ico\" para la imagen\n",
    "\n",
    "Podemos usar el siguiente metodo para añadir varias propiedas por ejemplo color de fondo:\n",
    "*root.config(bg=\"red\")*\n",
    "\n",
    "Una vez hechos estos ajustes básicos tendriamos una interfaz gráfica solo que vacia pero interfaz gráfica al final, si vamos al directorio podemos abrirla con el interprete de python, pero detras nos abre la consola para solucionar este problema cambiamos la extensión de nuestra interfaz de \".py\" a \".pyw\" (la \"w\" viene de window), con esto lograriamos que nos abra solo la interfaz al ejecutarlo\n",
    "\n",
    "Ya teniendo la raiz o la base de nuestra interfaz podemos pasar a la creación de un frame para empezar a colocar objetos en nuestra interfaz(esto más que todo por una cuestión de orden)"
   ],
   "cell_type": "markdown",
   "metadata": {}
  },
  {
   "source": [
    "Una vez hechos estos ajustes básicos tendriamos una interfaz gráfica solo que vacia pero interfaz gráfica al final, si vamos al directorio podemos abrirla con el interprete de python, pero detras nos abre la consola para solucionar este problema cambiamos la extensión de nuestra interfaz de *\".py\"* a *\".pyw\"* (la \"w\" viene de window), con esto lograriamos que nos abra solo la interfaz al ejecutarlo\n",
    "\n",
    "Ya teniendo la raiz o la base de nuestra interfaz podemos pasar a la creación de un frame para empezar a colocar objetos en nuestra interfaz(esto más que todo por una cuestión de orden)\n",
    "\n",
    "### Para crear un frame lo hacemos definiendo una variable y asignandole el método:\n",
    "   * miframe=tk.Frame(contendor, opciones)\n",
    "\n",
    "### Una vez creado debemos empaquetarlo en la raiz para ello debemos usar el método:\n",
    "   * miframe.pack()\n",
    "\n"
   ],
   "cell_type": "markdown",
   "metadata": {}
  },
  {
   "source": [
    "# usar \"interfaz 2.py\"\n",
    "\n",
    "## Ajustes de Frames\n",
    "\n",
    "### Si queremos que se muestre el frame sobre de la raiz debemos quitar el tamaño de la raiz(asignado con el método geometry)y en vez de eso definir el tamaño del frame:\n",
    "* miframe.config(width=\"650\", height=\"350\")\n",
    "\n",
    "### Si queremos distinguir nuestro frame podemos cambiarle el color de fondo de la misma forma que lo hicimos con root:\n",
    "* miframe.config(bg=\"blue\")\n",
    "\n",
    "### Tambien podemos ajustar el frame con distintos parametros en el metodo pack:\n",
    "* miframe.pack(side=\"right\") --> alinea a la derecha\n",
    "* miframe.pack(side=\"left\") --> alinea a la izquierda\n",
    "* miframe.pack(side=\"top\") --> alinea hacia arriba\n",
    "* miframe.pack(side=\"bottom\") --> alinea hacia abajo\n",
    "\n",
    "### Si queremos usar dos parametros para ajustar hacia dos posiciones por ejemplo \"a la derecha y arriba\" usaremos el método anchor(este usa los puntos cardinales norte, sur este y oeste en ingles) :\n",
    "* miframe.pack(side=\"left\", anchor=\"n\")\n",
    "* miframe.pack(side=\"left\", anchor=\"s\")\n",
    "* miframe.pack(side=\"left\", anchor=\"e\")\n",
    "* miframe.pack(side=\"left\", anchor=\"w\")\n",
    "\n",
    "### Ya si queremos rellenar la raiz con nuestro frame debemos usar el metodo fill:\n",
    "* miframe.pack(fill=\"x\") --> el frame se expande con la raiz horizontalmente\n",
    "\t\t\n",
    "* miframe.pack(fill=\"y\", expand=\"True\") --> el fill con \"y\" por si solo no lo expande debemos usar el método expand\n",
    "\t\t\n",
    "* miframe.pack(fill=\"both\", expand=\"True\") --> expande tanto vertical como horizontalmente el frame tambien requiere del método expand\n",
    "\n",
    "\n",
    "### Podemos darle un BORDE a nuestro frame y definir el estilo del mismo:\n",
    "* miframe.config(bd=\"20\") --> Define el tamaño del borde de un frame\n",
    "\n",
    "* miframe.config(relief=\"sunken\" --> define el estilo del borde del frame\n",
    "\n",
    "\n",
    "### Revisar la [documentación de Tkinter](https://docs.python.org/es/3/library/tkinter.html)"
   ],
   "cell_type": "markdown",
   "metadata": {}
  },
  {
   "source": [
    "## Modificar el cursor\n",
    "Podemos cambiarlo para que cuando este sobre un elemento especifico podamos cambiarlo usando el método *config* y colocando el parametro cursor\n",
    "* miframe.config(cursor=\"hand2\")\n",
    "\n",
    "ALgunos otros cursores disponibles son:\n",
    "* arrow\n",
    "* plus\n",
    "* hand\n",
    "* hand2\n",
    "* circle\n",
    "* clock\n",
    "* right_ptr\n",
    "* right_tee\n",
    "* center_ptr\n",
    "* pencil\n",
    "* spraycan\n",
    "* star\n",
    "* target\n",
    "* sizing\n",
    "\n",
    "### Para ver más revisa la [documentacion de tkinter](https://docs.python.org/es/3/library/tkinter.html)"
   ],
   "cell_type": "markdown",
   "metadata": {}
  },
  {
   "source": [
    "# Usar \"interfaz 3.py\"\n",
    "\n",
    "Ahora veremos como poner un texto en nuestra interfaz mediante la colocación de un *Label* en nuestra interfaz.\n",
    "\n",
    "Un *Label* nos permite mostrar texto pero no se puede modificar o eliminar, una vez aclarado esto su sintexis sería:"
   ],
   "cell_type": "markdown",
   "metadata": {}
  },
  {
   "cell_type": "code",
   "execution_count": null,
   "metadata": {},
   "outputs": [],
   "source": [
    "import tkinter as tk\n",
    "root=tk.Tk()\n",
    "\n",
    "miframe=tk.Frame(root, width=400, height=300)\n",
    "miframe.pack()\n",
    "milabel=tk.Label(miframe, text=\"Formulario\")\n",
    "milabel.grid(row=0, column=0)\n",
    "\n",
    "root.mainloop()"
   ]
  },
  {
   "cell_type": "code",
   "execution_count": null,
   "metadata": {},
   "outputs": [],
   "source": []
  }
 ]
}