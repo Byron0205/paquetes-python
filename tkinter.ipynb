{
 "metadata": {
  "language_info": {
   "codemirror_mode": {
    "name": "ipython",
    "version": 3
   },
   "file_extension": ".py",
   "mimetype": "text/x-python",
   "name": "python",
   "nbconvert_exporter": "python",
   "pygments_lexer": "ipython3",
   "version": 3
  },
  "orig_nbformat": 2
 },
 "nbformat": 4,
 "nbformat_minor": 2,
 "cells": [
  {
   "source": [
    "# Tkinter\n",
    "## Interfaces Gráficas con Python\n",
    "Una interfaz gráfica tambien denominadas GUI, Intermediarios entre el programa y el usuario. Formadas por un conjunto de gráficos como ventanas, botones, menús, casillas de verificación, etc; pueden verse también como ventanas con las que los usuarios interactuan con el programa\n",
    "\n",
    "para crear interfaces con python pueden usarse librerias como:\n",
    "* Tkinter\n",
    "* PyGTK\n",
    "* WxPython\n",
    "* PyQT\n",
    "\n",
    "Tkinter es un puente entre python y la libreria TCL/TK de otros lenguajes\n",
    "\n",
    "## Estructura de una interfaz grafica en python\n",
    "Lo primero es la raiz o ventana, dentro de esa raiz se crea normalmente un frame que agrupa los elementos de dicha interfaz, los elementos de la interfaz se les conoce como widgets o como todo lo que son: botones, menus desplegables, campos de texto, etc.\n",
    "\n",
    "### Primer Paso\n",
    "\n",
    " se empieza importando el paquete *Tkinter* para poder trabajar con el\n",
    "\n",
    "### SEgundo Paso\n",
    "\n",
    "se define una variable para que sea la interfaz\n",
    "\n",
    "### Tercer Paso\n",
    "\n",
    "Se utiliza el método *mainloop()* esto se debe a que para que funcione la interfaz esta debe estar en una especie de bucle infinito que va colocado desde que definimos el método *Tk* hasta *mainloop*\n"
   ],
   "cell_type": "markdown",
   "metadata": {}
  },
  {
   "cell_type": "code",
   "execution_count": null,
   "metadata": {},
   "outputs": [],
   "source": [
    "import tkinter as tk\n",
    "#forma de crear una interfaz \n",
    "root=tk.Tk()\n",
    "\n",
    "root.mainloop()"
   ]
  },
  {
   "source": [
    "las ventanas deben funcionar a la espera de eventos ya que funcionan en base a opciones, menus desplegables, botones, etc.\n"
   ],
   "cell_type": "markdown",
   "metadata": {}
  },
  {
   "cell_type": "code",
   "execution_count": null,
   "metadata": {},
   "outputs": [],
   "source": [
    "miframe=tk.Frame(root)\n",
    "miframe.pack()"
   ]
  },
  {
   "source": [
    "## Personalizar nuestra ventana\n",
    "### Podemos ponerle un titulo a la ventana usando el metodo\n",
    "* root.title(\"Titulo\")\n",
    "\n",
    "### Definir el tamaño por defecto de nuestra interfaz\n",
    "* root.geometry(\"medidaxmedida\")\n",
    "\n",
    "### Definir si se puede redimensionar o no\n",
    "* root.resizable(False, False) --> No modificable\n",
    "\n",
    "* root.resizable(True, False) --> solo modificable el ancho\n",
    "\n",
    "* root.resizable(False, True) --> solo modificable el alto\n",
    "\n",
    "* root.resizable(True, True) --> redimensionable\n",
    "\n",
    "### Colocar un icono a la ventana con el metodo\n",
    "* root.iconbitmap(\"direccion de la imagen\")\n",
    "\n",
    "## recomendaciones:\n",
    "* Coloca la imagen en la misma ruta que nuestra interfaz\n",
    "* Usar formato \".ico\" para la imagen\n",
    "\n",
    "Podemos usar el siguiente metodo para añadir varias propiedas por ejemplo color de fondo:\n",
    "*root.config(bg=\"red\")*\n",
    "\n",
    "Una vez hechos estos ajustes básicos tendriamos una interfaz gráfica solo que vacia pero interfaz gráfica al final, si vamos al directorio podemos abrirla con el interprete de python, pero detras nos abre la consola para solucionar este problema cambiamos la extensión de nuestra interfaz de \".py\" a \".pyw\" (la \"w\" viene de window), con esto lograriamos que nos abra solo la interfaz al ejecutarlo\n",
    "\n",
    "Ya teniendo la raiz o la base de nuestra interfaz podemos pasar a la creación de un frame para empezar a colocar objetos en nuestra interfaz(esto más que todo por una cuestión de orden)"
   ],
   "cell_type": "markdown",
   "metadata": {}
  },
  {
   "source": [
    "Una vez hechos estos ajustes básicos tendriamos una interfaz gráfica solo que vacia pero interfaz gráfica al final, si vamos al directorio podemos abrirla con el interprete de python, pero detras nos abre la consola para solucionar este problema cambiamos la extensión de nuestra interfaz de *\".py\"* a *\".pyw\"* (la \"w\" viene de window), con esto lograriamos que nos abra solo la interfaz al ejecutarlo\n",
    "\n",
    "Ya teniendo la raiz o la base de nuestra interfaz podemos pasar a la creación de un frame para empezar a colocar objetos en nuestra interfaz(esto más que todo por una cuestión de orden)\n",
    "\n",
    "### Para crear un frame lo hacemos definiendo una variable y asignandole el método:\n",
    "   * miframe=tk.Frame(contendor, opciones)\n",
    "\n",
    "### Una vez creado debemos empaquetarlo en la raiz para ello debemos usar el método:\n",
    "   * miframe.pack()\n",
    "\n"
   ],
   "cell_type": "markdown",
   "metadata": {}
  }
 ]
}