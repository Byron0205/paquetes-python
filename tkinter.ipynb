{
 "metadata": {
  "language_info": {
   "codemirror_mode": {
    "name": "ipython",
    "version": 3
   },
   "file_extension": ".py",
   "mimetype": "text/x-python",
   "name": "python",
   "nbconvert_exporter": "python",
   "pygments_lexer": "ipython3",
   "version": "3.8.6-final"
  },
  "orig_nbformat": 2,
  "kernelspec": {
   "name": "python3",
   "display_name": "Python 3.8.6 64-bit ('CursoDjango-ANFDnuX6')",
   "metadata": {
    "interpreter": {
     "hash": "ca6b35a2ddea22824db94670616386aa8ae9fc6c59a233ca73d5a9a9140dfc20"
    }
   }
  }
 },
 "nbformat": 4,
 "nbformat_minor": 2,
 "cells": [
  {
   "source": [
    "# Tkinter\n",
    "Tkinter es un puente entre python y la libreria TCL/TK que en otros lenguajes es usada para crear interfaces gráficas(GUI), tkinter usa un sistema de widgets por lo que antes de aprender a usarlo para entender como se usa correctamente deberemos aprender lo que seria programación orientada a objetos, ya que cada \"widget\" en tkinter es como una especie de objeto que nosotros colocamos en la interfaz que estamos creando\n",
    "\n",
    "## Interfaces Gráficas con Python\n",
    "Intermediarios entre el programa y el usuario, formado por un conjunto de ventanas,botones, menús, casillas de verificación,etc.\n",
    "\n",
    "## Importar tkinter y crear una ventana\n",
    "Para usar tkinter y evitar problemas en la importacion del paquete tkinter usaremos el método try/except sea que el usuario user python 2.x o 3.x \n",
    "\n",
    "Si definitivamente no funciona debera instalar tkinter en su ordenador,  una vez no ocurra el \"ImportError\" podemos crear nuestra primera ventana, para ello debemos crear un identificador para poder referirnos a nuestra ventana en este caso se llamara \"root\" \n",
    "\n"
   ],
   "cell_type": "markdown",
   "metadata": {}
  },
  {
   "cell_type": "code",
   "execution_count": null,
   "metadata": {},
   "outputs": [],
   "source": [
    "try:\n",
    "    import tkinter as tk\n",
    "except:\n",
    "    import Tkinter as tk\n",
    "#forma de crear una interfaz \n",
    "root=tk.Tk()\n",
    "\n",
    "root.mainloop()"
   ]
  },
  {
   "source": [
    "las linea de creación de root y el método \".mainloop\" de la misma, son fundamentales ya que de ellas dependera gran parte del contenido como botones y menús, con esto tendremos  una ventana vacía  para empezar a trabajar\n",
    "\n",
    "*Nota*\n",
    "La variable \"root\" usada en el identificador, puede ser remplazada por cualquier otro nombre siempre y cuando  se respeten  las palabras reservadas de python, pero usar la palabra \"root\" puede ser una buena práctica para ayudar a los demás programadores  que se unan al proyecto a reconocer la ventana principal\n"
   ],
   "cell_type": "markdown",
   "metadata": {}
  },
  {
   "source": [
    "# Usar \"interfaz 1.py\"\n",
    "## Personalizar nuestra ventana\n",
    "Las ventanas deben funcionar a la espera de eventos ya que funcionan en base a opciones, menus desplegables, botones, etc.\n",
    "Por eso para poder crear ventanas funcionales y poder hacer nuestros porgramas debemos usar estos elementos y poco a poco iré explicando como usarlos y agregarlos a nuestras ventanas.\n",
    "\n",
    "### Podemos ponerle un titulo a la ventana usando el metodo\n",
    "* root.title(\"Titulo\")\n",
    "\n",
    "### Definir el tamaño por defecto de nuestra interfaz\n",
    "* root.geometry(\"medidaxmedida\")\n",
    "\n",
    "### Definir si se puede redimensionar o no\n",
    "* root.resizable(False, False) --> No modificable\n",
    "\n",
    "* root.resizable(True, False) --> solo modificable el ancho\n",
    "\n",
    "* root.resizable(False, True) --> solo modificable el alto\n",
    "\n",
    "* root.resizable(True, True) --> redimensionable\n",
    "\n",
    "### Colocar un icono a la ventana con el metodo\n",
    "* root.iconbitmap(\"direccion de la imagen\")\n",
    "\n",
    "## recomendaciones:\n",
    "* Coloca la imagen en la misma ruta que nuestra interfaz\n",
    "* Usar formato \".ico\" para la imagen\n",
    "\n",
    "Podemos usar el siguiente metodo para añadir varias propiedas por ejemplo color de fondo:\n",
    "*root.config(bg=\"red\")*\n",
    "\n",
    "Una vez hechos estos ajustes básicos tendriamos una interfaz gráfica solo que vacia pero interfaz gráfica al final, si vamos al directorio podemos abrirla con el interprete de python, pero detras nos abre la consola para solucionar este problema cambiamos la extensión de nuestra interfaz de \".py\" a \".pyw\" (la \"w\" viene de window), con esto lograriamos que nos abra solo la interfaz al ejecutarlo\n",
    "\n",
    "Ya teniendo la raiz o la base de nuestra interfaz podemos pasar a la creación de un frame para empezar a colocar objetos en nuestra interfaz(esto más que todo por una cuestión de orden)"
   ],
   "cell_type": "markdown",
   "metadata": {}
  },
  {
   "source": [
    "# usar \"interfaz 2.py\"\n",
    "\n",
    "## Ajustes de Frames\n",
    "\n",
    "Dentro de nuestros frames colocaremos los \"widgets\" y le daremos forma a nuestros porgramas pero para eso debemos aprender como usar los frames. \n",
    "\n",
    "Debemos definir una variable para poder reconocer nuestro frame al usarlo en la interfaz luego debemos definir donde esta ubicado nuestro frame, así como algunos atributos como el ancho y el largo por ejemplo"
   ],
   "cell_type": "markdown",
   "metadata": {}
  },
  {
   "cell_type": "code",
   "execution_count": null,
   "metadata": {},
   "outputs": [],
   "source": [
    "import tkinter as tk\n",
    "\n",
    "root=tk.Tk()\n",
    "root.geometry(\"800x600\")\n",
    "miframe=tk.Frame(root)\n",
    "\n",
    "root.mainloop()"
   ]
  },
  {
   "source": [
    "### Si queremos que se muestre el frame sobre de la raiz debemos quitar el tamaño de la raiz(asignado con el método geometry)y en vez de eso definir el tamaño del frame:\n",
    "* miframe.config(width=\"650\", height=\"350\")\n",
    "\n",
    "### Si queremos distinguir nuestro frame podemos cambiarle el color de fondo de la misma forma que lo hicimos con root:\n",
    "* miframe.config(bg=\"blue\")\n",
    "\n",
    "### Podemos darle un BORDE a nuestro frame y definir el estilo del mismo:\n",
    "* miframe.config(bd=\"20\") --> Define el tamaño del borde de un frame\n",
    "\n",
    "* miframe.config(relief=\"sunken\" --> define el estilo del borde del frame\n",
    "\n",
    "\n",
    "### Revisar la [documentación de Tkinter](https://docs.python.org/es/3/library/tkinter.html)"
   ],
   "cell_type": "markdown",
   "metadata": {}
  },
  {
   "cell_type": "code",
   "execution_count": null,
   "metadata": {},
   "outputs": [],
   "source": [
    "import tkinter as tk\n",
    "\n",
    "root= tk.Tk()\n",
    "miframe=tk.Frame(root)\n",
    "miframe.config(width=\"650\", height=\"350\")\n",
    "\n",
    "root.mainloop()"
   ]
  },
  {
   "source": [
    "Una vez hechos estos ajustes básicos tendriamos una interfaz gráfica solo que vacia pero interfaz gráfica al final, si vamos al directorio podemos abrirla con el interprete de python, pero detras nos abre la consola para solucionar este problema cambiamos la extensión de nuestra interfaz de *\".py\"* a *\".pyw\"* (la \"w\" viene de window), con esto lograriamos que nos abra solo la interfaz al ejecutarlo\n",
    "\n",
    "Ya teniendo la raiz o la base de nuestra interfaz podemos pasar a la creación de un frame para empezar a colocar objetos en nuestra interfaz(esto más que todo por una cuestión de orden)\n",
    "\n",
    "### Para crear un frame lo hacemos definiendo una variable y asignandole el método:\n",
    "   * miframe=tk.Frame(contendor, opciones)\n",
    "\n",
    "### Una vez creado debemos empaquetarlo en la raiz para ello debemos usar el método:\n",
    "   * miframe.pack()\n",
    "\n"
   ],
   "cell_type": "markdown",
   "metadata": {}
  },
  {
   "source": [
    "## Colocar el frame dentro de nuestra ventana\n",
    "\n",
    "para poder colocar nuestros frame asi como los demás widgets de nuestra interfaz podemos hacerlo de alguna de las siguientes maneras:\n",
    "\n",
    "## pack()\n",
    "Usando el método *pack()* podemos ajustar el frame y colocarlo dentro de nuestra interfaz pero a su vez podemos ajustar también el método pack para que a la hora de empaquetar nuestro frame a nuestra ventana se ajuste de una manera específica\n",
    "\n",
    "### Podemos alinear el frame con distintos parametros del método pack:\n",
    "* miframe.pack(side=\"right\") --> alinea a la derecha\n",
    "* miframe.pack(side=\"left\") --> alinea a la izquierda\n",
    "* miframe.pack(side=\"top\") --> alinea hacia arriba\n",
    "* miframe.pack(side=\"bottom\") --> alinea hacia abajo\n",
    "\n",
    "### Si queremos usar dos parametros para alinear hacia dos posiciones por ejemplo \"a la derecha y arriba\" usaremos el método anchor(este usa los puntos cardinales norte, sur este y oeste en inglés) :\n",
    "* miframe.pack(side=\"left\", anchor=\"n\")\n",
    "* miframe.pack(side=\"left\", anchor=\"s\")\n",
    "* miframe.pack(side=\"left\", anchor=\"e\")\n",
    "* miframe.pack(side=\"left\", anchor=\"w\")\n",
    "\n",
    "### Ya si queremos rellenar la raiz con nuestro frame debemos usar el metodo fill:\n",
    "* miframe.pack(fill=\"x\") --> el frame se expande con la raiz horizontalmente\n",
    "* miframe.pack(fill=\"y\", expand=\"True\") --> el fill con \"y\" por si solo no lo expande debemos usar el método expand\n",
    "* miframe.pack(fill=\"both\", expand=\"True\") --> expande tanto vertical como horizontalmente el frame tambien requiere del método expand\n",
    "\n",
    "## grid()\n",
    "Usando en método *grid()* es otra forma de lograr colocar nuestros widgets en la ventana o el frame\n",
    "\n",
    "### Podemos ubicar nuestros widgets como si los tuvieramos en una cuadricula\n",
    "* Usando el parámetro *row* definimos la fila donde colocaremos nuestro widgets\n",
    "* Usando el parámetro *column* definiremos la columna donde colocaremos nuestros widgets\n",
    "\n",
    "## place()\n",
    "Usando el método *place()* es otra forma de colocar nuestros widgets\n",
    "\n",
    "### Podemos colocar nuestros widgets como si los colocaramos en un plano cartesiano\n",
    "* Usando el paramétro *x* ubicaremos nuestros widgets en el eje x\n",
    "* Usando en parametro *y* ubicaremos nuestros widgets en el eje y\n"
   ],
   "cell_type": "markdown",
   "metadata": {}
  },
  {
   "cell_type": "code",
   "execution_count": 9,
   "metadata": {},
   "outputs": [],
   "source": [
    "import tkinter as tk\n",
    "\n",
    "root= tk.Tk()\n",
    "miframe=tk.Frame(root)\n",
    "miframe.config(width=\"650\", height=\"350\")\n",
    "miframe.config(bg=\"red\")\n",
    "miframe.pack(fill=\"both\", expand=\"t\")\n",
    "root.mainloop()"
   ]
  },
  {
   "source": [
    "## Modificar el cursor\n",
    "Podemos cambiarlo para que cuando este sobre un elemento especifico podamos cambiarlo usando el método *config* y colocando el parametro cursor\n",
    "* miframe.config(cursor=\"hand2\")\n",
    "\n",
    "ALgunos otros cursores disponibles son:\n",
    "* arrow\n",
    "* plus\n",
    "* hand\n",
    "* hand2\n",
    "* circle\n",
    "* clock\n",
    "* right_ptr\n",
    "* right_tee\n",
    "* center_ptr\n",
    "* pencil\n",
    "* spraycan\n",
    "* star\n",
    "* target\n",
    "* sizing\n",
    "\n",
    "### Para ver más revisa la [documentacion de tkinter](https://docs.python.org/es/3/library/tkinter.html)"
   ],
   "cell_type": "markdown",
   "metadata": {}
  },
  {
   "cell_type": "code",
   "execution_count": 10,
   "metadata": {},
   "outputs": [],
   "source": [
    "import tkinter as tk\n",
    "\n",
    "root= tk.Tk()\n",
    "miframe=tk.Frame(root)\n",
    "miframe.config(width=\"650\", height=\"350\")\n",
    "miframe.config(bg=\"red\")\n",
    "miframe.config(cursor=\"pencil\")\n",
    "miframe.pack()\n",
    "root.mainloop()"
   ]
  },
  {
   "source": [
    "# Usar \"interfaz 3.py\"\n",
    "\n",
    "Ahora veremos como poner un texto en nuestra interfaz mediante la colocación de un *Label* en nuestra interfaz.\n",
    "\n",
    "Un *Label* nos permite mostrar texto pero no se puede modificar o eliminar desde la interfaz, una vez aclarado esto, su sintaxis es la siguiente: *milabel=tk.Label(contenedor, opciones)*"
   ],
   "cell_type": "markdown",
   "metadata": {}
  },
  {
   "cell_type": "code",
   "execution_count": null,
   "metadata": {},
   "outputs": [],
   "source": [
    "import tkinter as tk\n",
    "root=tk.Tk()\n",
    "\n",
    "miframe=tk.Frame(root, width=400, height=300)\n",
    "miframe.pack()\n",
    "#como crear un label en tkinter\n",
    "milabel=tk.Label()\n",
    "\n",
    "root.mainloop()"
   ]
  },
  {
   "source": [
    "## Algunos de los parametros que se pueden usar con los *label* son las siguientes:\n",
    "* text: texto que se muestra en el label\n",
    "\n",
    "* anchor: controla la posición del texto si hay espacio suficiente para él(centro por defecto)\n",
    "\n",
    "* bg: color de fondo\n",
    "\n",
    "* bitmap: mapa de bits que se mostrara como gráfico\n",
    "\n",
    "* bd: grosor del borde(2 px por defecto)\n",
    "\n",
    "* font: especifica tamaño de letra y/o fuente a usar (arial, Comic Sans MS18, etc)\n",
    "\n",
    "* fg: color de fuente\n",
    "\n",
    "* width: ancho de label en caracteres(no en pixeles)\n",
    "\n",
    "* height: altura del label en caracteres(no en pixeles)\n",
    "\n",
    "* Image: muestra imagen en el label en lugar de texto\n",
    "\n",
    "* justify: justifica el texto del label\n",
    "\n",
    "\n",
    "## Colocar un *label* en la interfaz\n",
    "Para ubicarlos en la interfaz se puede usar cualquier método sea *grid*, *pack* o *place*."
   ],
   "cell_type": "markdown",
   "metadata": {}
  },
  {
   "cell_type": "code",
   "execution_count": null,
   "metadata": {},
   "outputs": [],
   "source": [
    "import tkinter as tk\n",
    "root=tk.Tk()\n",
    "\n",
    "miframe=tk.Frame(root, width=400, height=300)\n",
    "miframe.pack()\n",
    "#label con texto\n",
    "milabel=tk.Label(miframe, text=\"Formulario\")\n",
    "milabel.grid(row=0, column=0)\n",
    "\n",
    "root.mainloop()"
   ]
  },
  {
   "source": [
    "## Usar imagenes en el label\n",
    "\n",
    "Primero tener una imagen para colocar en el *label*\n",
    "\n",
    "Creamos una variable del siguiente tipo:\n",
    "miImagen=tk.PhotoImage()\n",
    "\n",
    "Ya que esta variable nos permite rescatar y trabajar imagenes y en el argumento usamos el parametro file:\n",
    "miImagen=tk.PhotoImage(file=\"ruta de la imagen\")\n",
    "\n",
    "Luego ya para finalizar podemos crear otro label para colocar nuestra imagen, en este caso yo usare el ya existente, para ello borramos el argumento text y colocamos el argumento image en milabel:\n",
    "milabel=tk.Label(miframe, image=miImagen).\n",
    "\n",
    "El resto de datos referentes al label podemos dejarlos como estan ya que no afectan a nuestra imagen"
   ],
   "cell_type": "markdown",
   "metadata": {}
  }
 ]
}